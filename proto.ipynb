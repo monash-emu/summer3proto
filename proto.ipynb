{
 "cells": [
  {
   "cell_type": "code",
   "execution_count": null,
   "metadata": {},
   "outputs": [],
   "source": [
    "from summer2 import CompartmentalModel, Stratification\n",
    "from summer2.parameters import CompartmentValues, Parameter, Time, Function\n",
    "from summer2.functions import time as stf\n",
    "\n",
    "from jax import numpy as jnp\n",
    "import numpy as np\n",
    "import pandas as pd"
   ]
  },
  {
   "cell_type": "code",
   "execution_count": null,
   "metadata": {},
   "outputs": [],
   "source": [
    "from summer2 import inspect as mi"
   ]
  },
  {
   "cell_type": "code",
   "execution_count": null,
   "metadata": {},
   "outputs": [],
   "source": [
    "class NStrat:\n",
    "    def __init__(self, name, strata, stratifies=None,is_base=False):\n",
    "        self.name = name\n",
    "        self.strata = strata\n",
    "        self.is_base = is_base\n",
    "        self.stratifies = stratifies or {}\n",
    "\n",
    "    def __repr__(self):\n",
    "        return f\"{self.name}: {self.strata}\"\n",
    "\n",
    "class NComp:\n",
    "    def __init__(self, name, strata, idx=None):\n",
    "        self.name = name\n",
    "        self.strata = strata\n",
    "        self.idx = idx\n",
    "\n",
    "    def __repr__(self):\n",
    "        return self.name\n",
    "    \n",
    "    def __hash__(self) -> int:\n",
    "        return self.name.__hash__()"
   ]
  },
  {
   "cell_type": "code",
   "execution_count": null,
   "metadata": {},
   "outputs": [],
   "source": [
    "class CompartmentQuery:\n",
    "    def __init__(self, data: list[NComp]):\n",
    "        self.compartments = data\n",
    "\n",
    "    @property\n",
    "    def names(self) -> list[str]:\n",
    "        return [c.name for c in self.compartments]\n",
    "    \n",
    "    @property\n",
    "    def index(self) -> np.ndarray[int]:\n",
    "        return np.array([c.idx for c in self.compartments], dtype=int)\n",
    "    \n",
    "    def __repr__(self):\n",
    "        return f\"CompartmentQuery: {self.compartments.__repr__()}\"\n"
   ]
  },
  {
   "cell_type": "code",
   "execution_count": null,
   "metadata": {},
   "outputs": [],
   "source": [
    "class NModel:\n",
    "    def __init__(self, init_comps, init_strat=\"state\"):\n",
    "        self.compartments = [NComp(k, {init_strat: k}, i) for i, k in enumerate(init_comps)]\n",
    "        self.flows = []\n",
    "        self.stratifications = {init_strat: NStrat(init_strat, init_comps, True)}\n",
    "\n",
    "    def query_compartments(self, q: dict) -> CompartmentQuery:\n",
    "        return CompartmentQuery(mi.query_compartments(self, q))\n",
    "\n",
    "    def stratify(self, strat):\n",
    "        comps_to_stratify = self.query_compartments(strat.stratifies).compartments\n",
    "\n",
    "        new_comps = []\n",
    "        for c in self.compartments:\n",
    "            if c in comps_to_stratify:\n",
    "                new_comps += [NComp(\"_\".join((c.name,stratum)), c.strata | {strat.name: stratum}) for stratum in strat.strata]\n",
    "            else:\n",
    "                new_comps.append(c)\n",
    "\n",
    "        for i,c in enumerate(new_comps):\n",
    "            c.idx = i\n",
    "\n",
    "        self.compartments = new_comps\n",
    "        self.stratifications[strat.name] = strat\n",
    "\n",
    "        #self._transactions.append()\n",
    "\n",
    "def get_category_indexer(m: NModel, query: list[dict]):\n",
    "    return np.array([m.query_compartments(q).index for q in query])\n",
    "\n"
   ]
  },
  {
   "cell_type": "code",
   "execution_count": null,
   "metadata": {},
   "outputs": [],
   "source": [
    "def proportional(weights):\n",
    "    return weights / weights.sum()"
   ]
  },
  {
   "cell_type": "code",
   "execution_count": null,
   "metadata": {},
   "outputs": [],
   "source": [
    "proportional(np.array([1.0,2.0,1.0]))"
   ]
  },
  {
   "cell_type": "code",
   "execution_count": null,
   "metadata": {},
   "outputs": [],
   "source": [
    "# infection_[S->I]\n",
    "# 1:1 infection_[S->I]_age\n",
    "# infection_[S->I]"
   ]
  },
  {
   "cell_type": "code",
   "execution_count": null,
   "metadata": {},
   "outputs": [],
   "source": [
    "# strains with exclusivity\n",
    "# S -> [I1, I2] -> R\n",
    "# strains with simultaneous infection\n",
    "# S -> [I1, I2] -> [R1,R2]\n",
    "# I1 -> I2, I2 ->I1\n",
    "\n",
    "# Weighted adjustments; sum to 1.0\n",
    "# x=[1.0,mod2,mod3] -> x/x.sum()\n",
    "\n",
    "# add_adjustments(flow, source, dest, adjp)\n",
    "# adjp = proportional(x)"
   ]
  },
  {
   "cell_type": "code",
   "execution_count": null,
   "metadata": {},
   "outputs": [],
   "source": [
    "# stratify\n",
    "\n",
    "# if a stratification affects any compartments involved in a flow;\n",
    "# if both source and dest are affected (ie mapping remains equivalent), then do nothing?\n",
    "# if only dest is affected (ie we are branching outward), apply adjustments (default to even split weighting to 1.0)\n",
    "# if only source is affected (ie we are branching inward), probably don't need anything?\n",
    "\n",
    "# flow params can be\n",
    "# scalar\n",
    "# the shape of the flow IFF source and dest are the same size\n",
    "# the shape of either source or dest if these 2 are different (with broadcasting rules specified)"
   ]
  },
  {
   "cell_type": "code",
   "execution_count": null,
   "metadata": {},
   "outputs": [],
   "source": [
    "nm = NModel([\"pop\", \"extras\"], \"base\")\n",
    "nm.stratifications"
   ]
  },
  {
   "cell_type": "code",
   "execution_count": null,
   "metadata": {},
   "outputs": [],
   "source": [
    "nm.stratify(NStrat(\"state\", [\"S\",\"I\",\"R\"], {\"base\": \"pop\"}))"
   ]
  },
  {
   "cell_type": "code",
   "execution_count": null,
   "metadata": {},
   "outputs": [],
   "source": [
    "nm.query_compartments({})"
   ]
  },
  {
   "cell_type": "code",
   "execution_count": null,
   "metadata": {},
   "outputs": [],
   "source": [
    "nm.stratify(NStrat(\"age\", [\"child\", \"adult\"], {\"base\": \"pop\"}))"
   ]
  },
  {
   "cell_type": "code",
   "execution_count": null,
   "metadata": {},
   "outputs": [],
   "source": [
    "nm.stratify(NStrat(\"job\", [\"frontline\", \"office\", \"unemployed\"], {\"age\": \"adult\"}))"
   ]
  },
  {
   "cell_type": "code",
   "execution_count": null,
   "metadata": {},
   "outputs": [],
   "source": [
    "nm.compartments"
   ]
  },
  {
   "cell_type": "code",
   "execution_count": null,
   "metadata": {},
   "outputs": [],
   "source": [
    "nm.stratify(NStrat(\"severity\", [\"asymptomatic\", \"mild\", \"severe\"], {\"state\": \"I\"}))\n",
    "nm.compartments"
   ]
  },
  {
   "cell_type": "code",
   "execution_count": null,
   "metadata": {},
   "outputs": [],
   "source": [
    "nm.query_compartments({\"severity\": \"mild\"})"
   ]
  }
 ],
 "metadata": {
  "kernelspec": {
   "display_name": "jax310",
   "language": "python",
   "name": "python3"
  },
  "language_info": {
   "codemirror_mode": {
    "name": "ipython",
    "version": 3
   },
   "file_extension": ".py",
   "mimetype": "text/x-python",
   "name": "python",
   "nbconvert_exporter": "python",
   "pygments_lexer": "ipython3",
   "version": "3.10.10"
  }
 },
 "nbformat": 4,
 "nbformat_minor": 2
}
