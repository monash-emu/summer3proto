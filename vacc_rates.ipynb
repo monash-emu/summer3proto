{
 "cells": [
  {
   "cell_type": "code",
   "execution_count": null,
   "metadata": {},
   "outputs": [],
   "source": [
    "from summer2 import CompartmentalModel, Stratification\n",
    "from summer2.parameters import CompartmentValues, Parameter, Time, Function\n",
    "from summer2.functions import time as stf\n",
    "\n",
    "from jax import numpy as jnp\n",
    "import pandas as pd"
   ]
  },
  {
   "cell_type": "code",
   "execution_count": null,
   "metadata": {},
   "outputs": [],
   "source": [
    "pd.options.plotting.backend=\"plotly\""
   ]
  },
  {
   "cell_type": "code",
   "execution_count": null,
   "metadata": {},
   "outputs": [],
   "source": [
    "# infectious_compartments can (should?) default to None"
   ]
  },
  {
   "cell_type": "code",
   "execution_count": null,
   "metadata": {},
   "outputs": [],
   "source": [
    "def build_model():\n",
    "    m = CompartmentalModel([0,100.0], [\"unvacc\", \"vacc\", \"dose_avail\"], [])\n",
    "    m.set_initial_population({\"unvacc\": 1000.0, \"dose_avail\": 100.0})\n",
    "\n",
    "    def vacc_rates(comp_vals, maxdd = 10.0):\n",
    "        dose_idx = m.query_compartments({\"name\": \"dose_avail\"}, as_idx=True)\n",
    "        cur_dose_avail = comp_vals[dose_idx].sum()\n",
    "        unvacc_idx = m.query_compartments({\"name\": \"unvacc\"}, as_idx=True)\n",
    "        cur_unvacc = comp_vals[unvacc_idx].sum()\n",
    "\n",
    "        num_to_vacc = jnp.min(jnp.array((maxdd,cur_unvacc, cur_dose_avail)))\n",
    "\n",
    "        vacc_rate = num_to_vacc/cur_unvacc\n",
    "        dose_rate = num_to_vacc/cur_dose_avail\n",
    "        \n",
    "        return {\"vacc_rate\": vacc_rate, \"dose_rate\": dose_rate}\n",
    "    \n",
    "    n2v = Function(vacc_rates, [CompartmentValues, Parameter(\"maxdd\")])\n",
    "\n",
    "    m.add_transition_flow(\"vaccination\", n2v[\"vacc_rate\"], \"unvacc\", \"vacc\")\n",
    "    m.add_death_flow(\"dose_depletion\", n2v[\"dose_rate\"], \"dose_avail\")\n",
    "\n",
    "    return m"
   ]
  },
  {
   "cell_type": "code",
   "execution_count": null,
   "metadata": {},
   "outputs": [],
   "source": [
    "m = build_model()"
   ]
  },
  {
   "cell_type": "code",
   "execution_count": null,
   "metadata": {},
   "outputs": [],
   "source": [
    "p = {\n",
    "    \"maxdd\": 5.0\n",
    "}\n",
    "m.run(p)\n",
    "\n",
    "m.get_outputs_df().plot()"
   ]
  },
  {
   "cell_type": "code",
   "execution_count": null,
   "metadata": {},
   "outputs": [],
   "source": []
  }
 ],
 "metadata": {
  "kernelspec": {
   "display_name": "py310",
   "language": "python",
   "name": "python3"
  },
  "language_info": {
   "codemirror_mode": {
    "name": "ipython",
    "version": 3
   },
   "file_extension": ".py",
   "mimetype": "text/x-python",
   "name": "python",
   "nbconvert_exporter": "python",
   "pygments_lexer": "ipython3",
   "version": "3.10.13"
  }
 },
 "nbformat": 4,
 "nbformat_minor": 2
}
