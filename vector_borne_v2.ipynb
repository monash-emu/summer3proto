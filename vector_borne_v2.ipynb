{
  "cells": [
    {
      "cell_type": "markdown",
      "metadata": {
        "colab_type": "text",
        "id": "view-in-github"
      },
      "source": [
        "<a href=\"https://colab.research.google.com/github/dshipman/colabsnippets/blob/main/vector_borne.ipynb\" target=\"_parent\"><img src=\"https://colab.research.google.com/assets/colab-badge.svg\" alt=\"Open In Colab\"/></a>"
      ]
    },
    {
      "cell_type": "code",
      "execution_count": null,
      "metadata": {
        "colab": {
          "base_uri": "https://localhost:8080/"
        },
        "id": "3b46PUqNTJdi",
        "outputId": "b1b42a9b-010f-4029-f255-426315956ed8"
      },
      "outputs": [],
      "source": [
        "#!pip install summerepi2"
      ]
    },
    {
      "cell_type": "code",
      "execution_count": null,
      "metadata": {
        "id": "_PC8yCoXTKul"
      },
      "outputs": [],
      "source": [
        "from summer2 import CompartmentalModel, Stratification\n",
        "from summer2.parameters import Parameter, Function, CompartmentValues, Time"
      ]
    },
    {
      "cell_type": "code",
      "execution_count": null,
      "metadata": {
        "id": "G0xiBXSUTWsW"
      },
      "outputs": [],
      "source": [
        "#comps = [\"s_mosq\", \"e_mosq\", \"i_mosq\", \"s_human\", \"e_human\", \"i_human\", \"r_human\"]"
      ]
    },
    {
      "cell_type": "code",
      "execution_count": null,
      "metadata": {
        "id": "X_BZCswBU4nR"
      },
      "outputs": [],
      "source": [
        "m = CompartmentalModel([0,1000.0], [\"human\",\"mosquito\"], [])"
      ]
    },
    {
      "cell_type": "code",
      "execution_count": null,
      "metadata": {
        "id": "s77OM8QYU9-s"
      },
      "outputs": [],
      "source": [
        "m.set_initial_population({\"human\": 10000.0})"
      ]
    },
    {
      "cell_type": "code",
      "execution_count": null,
      "metadata": {},
      "outputs": [],
      "source": [
        "# compartments arg should accept single string\n",
        "\n",
        "human_strat = Stratification(\"h_state\", [\"S\",\"E\",\"I\",\"R\"], [\"human\"])\n",
        "human_strat.set_population_split({\"S\": 0.999, \"E\": 0.001, \"I\": 0.0, \"R\": 0.0})\n",
        "m.stratify_with(human_strat)\n",
        "\n",
        "mosq_strat = Stratification(\"m_state\", [\"S\",\"E\",\"I\"], [\"mosquito\"])\n",
        "mosq_strat.set_population_split({\"S\": 1.0, \"E\": 0.0, \"I\": 0.0})\n",
        "m.stratify_with(mosq_strat)"
      ]
    },
    {
      "cell_type": "code",
      "execution_count": null,
      "metadata": {
        "id": "dQELuBFmVUVH"
      },
      "outputs": [],
      "source": [
        "def infection_m2h(comp_vals, contact_m2h):\n",
        "  i_mosq_idx = m.query_compartments({\"m_state\": \"I\"}, as_idx=True)\n",
        "  tot_i_mosq = comp_vals[i_mosq_idx].sum()\n",
        "  return tot_i_mosq * contact_m2h\n",
        "\n",
        "def infection_h2m(comp_vals, contact_h2m):\n",
        "  i_human_idx = m.query_compartments({\"h_state\": \"I\"}, as_idx=True)\n",
        "  all_human_idx = m.query_compartments({\"name\": \"human\"},as_idx=True)\n",
        "  prevalence = comp_vals[i_human_idx].sum() / comp_vals[all_human_idx].sum()\n",
        "  return prevalence * contact_h2m\n"
      ]
    },
    {
      "cell_type": "markdown",
      "metadata": {
        "id": "N-R2hmmkWTIm"
      },
      "source": []
    },
    {
      "cell_type": "code",
      "execution_count": null,
      "metadata": {},
      "outputs": [],
      "source": [
        "def add_transition_flow(model, name, flow_param, source, dest):\n",
        "    sres = model.query_compartments(source)\n",
        "    dres = model.query_compartments(dest)\n",
        "\n",
        "    snames = set([c.name for c in sres])\n",
        "    dnames = set([c.name for c in dres])\n",
        "\n",
        "    assert(len(snames) == 1)\n",
        "    assert(len(dnames) == 1)\n",
        "\n",
        "    s_name = source.pop(\"name\") if \"name\" in source else list(snames)[0]\n",
        "    d_name = dest.pop(\"name\") if \"name\" in dest else list(dnames)[0]\n",
        "\n",
        "    return model.add_transition_flow(name, flow_param, s_name, d_name, source, dest)\n"
      ]
    },
    {
      "cell_type": "code",
      "execution_count": null,
      "metadata": {},
      "outputs": [],
      "source": [
        "add_transition_flow(m, \"infection_m2h\", Function(infection_m2h, [CompartmentValues, Parameter(\"contact_m2h\")]), {\"h_state\": \"S\"}, {\"h_state\": \"E\"})\n",
        "add_transition_flow(m, \"infection_h2m\", Function(infection_h2m, [CompartmentValues, Parameter(\"contact_h2m\")]), {\"m_state\": \"S\"}, {\"m_state\": \"E\"})\n",
        "\n",
        "add_transition_flow(m, \"progression_h\", 1.0/Parameter(\"incubation_period_h\"), {\"h_state\": \"E\"}, {\"h_state\": \"I\"})\n",
        "add_transition_flow(m, \"recovery_h\", 1.0/Parameter(\"infectious_period_h\"), {\"h_state\": \"I\"}, {\"h_state\": \"R\"})\n",
        "\n",
        "add_transition_flow(m, \"progression_m\", 1.0/Parameter(\"incubation_period_m\"), {\"m_state\": \"E\"}, {\"m_state\": \"I\"})\n",
        "\n",
        "m.add_death_flow(\"death_m\", 1.0/Parameter(\"mosquito_lifetime\"), \"mosquito\")\n"
      ]
    },
    {
      "cell_type": "code",
      "execution_count": null,
      "metadata": {
        "id": "A_mthUYuqyTe"
      },
      "outputs": [],
      "source": [
        "from jax import numpy as jnp"
      ]
    },
    {
      "cell_type": "code",
      "execution_count": null,
      "metadata": {
        "id": "80yo9T9PqzNp"
      },
      "outputs": [],
      "source": [
        "def mosq_birth(t):\n",
        "  return 1.0 + 0.5*jnp.sin(jnp.pi*2.0*t/365.0)"
      ]
    },
    {
      "cell_type": "code",
      "execution_count": null,
      "metadata": {
        "id": "KcOuVUWhrCeK"
      },
      "outputs": [],
      "source": [
        "m.add_importation_flow(\"birth_m\", Function(mosq_birth, [Time]) * Parameter(\"mosq_birth_rate\"), \"mosquito\", split_imports=False, dest_strata={\"m_state\": \"S\"})"
      ]
    },
    {
      "cell_type": "code",
      "execution_count": null,
      "metadata": {},
      "outputs": [],
      "source": [
        "m.flows"
      ]
    },
    {
      "cell_type": "code",
      "execution_count": null,
      "metadata": {
        "id": "nbFJwDaFrcIl"
      },
      "outputs": [],
      "source": [
        "parameters = {\n",
        "    \"contact_m2h\": 0.00005,\n",
        "    \"contact_h2m\": 0.1,\n",
        "    \"incubation_period_h\": 21.0,\n",
        "    \"infectious_period_h\": 100.0,\n",
        "    \"incubation_period_m\": 3.0,\n",
        "    \"mosquito_lifetime\": 14.0,\n",
        "    \"mosq_birth_rate\": 50.0\n",
        "}"
      ]
    },
    {
      "cell_type": "code",
      "execution_count": null,
      "metadata": {
        "id": "4jERaaI3rXPb"
      },
      "outputs": [],
      "source": [
        "m.run(parameters)"
      ]
    },
    {
      "cell_type": "code",
      "execution_count": null,
      "metadata": {
        "id": "emfJ-pxFtR-L"
      },
      "outputs": [],
      "source": [
        "import pandas as pd\n",
        "pd.options.plotting.backend=\"plotly\""
      ]
    },
    {
      "cell_type": "code",
      "execution_count": null,
      "metadata": {},
      "outputs": [],
      "source": [
        "m.get_outputs_df()[m.query_compartments({\"name\": \"human\"})].plot()"
      ]
    },
    {
      "cell_type": "code",
      "execution_count": null,
      "metadata": {
        "colab": {
          "base_uri": "https://localhost:8080/",
          "height": 542
        },
        "id": "YqqNh7jprbmO",
        "outputId": "2b905d16-af0e-4e33-a9f2-9374d9f5caf8"
      },
      "outputs": [],
      "source": [
        "m.get_outputs_df()[m.query_compartments({\"name\": \"mosquito\"})].plot()"
      ]
    },
    {
      "cell_type": "code",
      "execution_count": null,
      "metadata": {},
      "outputs": [],
      "source": [
        "m.graph[\"_var10\"].args"
      ]
    },
    {
      "cell_type": "code",
      "execution_count": null,
      "metadata": {
        "colab": {
          "base_uri": "https://localhost:8080/",
          "height": 817
        },
        "id": "OkXg-am4r9hl",
        "outputId": "33d97dc8-fa39-490d-bad7-7d118c603d94"
      },
      "outputs": [],
      "source": [
        "m.graph.draw()"
      ]
    },
    {
      "cell_type": "code",
      "execution_count": null,
      "metadata": {
        "id": "shlJQoTusEhI"
      },
      "outputs": [],
      "source": []
    }
  ],
  "metadata": {
    "colab": {
      "authorship_tag": "ABX9TyNL9ZJ2OW93w6nAMKppj0KH",
      "include_colab_link": true,
      "provenance": []
    },
    "kernelspec": {
      "display_name": "Python 3",
      "name": "python3"
    },
    "language_info": {
      "codemirror_mode": {
        "name": "ipython",
        "version": 3
      },
      "file_extension": ".py",
      "mimetype": "text/x-python",
      "name": "python",
      "nbconvert_exporter": "python",
      "pygments_lexer": "ipython3",
      "version": "3.10.10"
    }
  },
  "nbformat": 4,
  "nbformat_minor": 0
}
