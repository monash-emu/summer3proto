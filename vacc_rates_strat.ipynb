{
 "cells": [
  {
   "cell_type": "code",
   "execution_count": null,
   "metadata": {},
   "outputs": [],
   "source": [
    "from summer2 import CompartmentalModel, Stratification\n",
    "from summer2.parameters import CompartmentValues, Parameter, Time, Function\n",
    "from summer2.functions import time as stf\n",
    "\n",
    "from jax import numpy as jnp\n",
    "import pandas as pd\n",
    "import numpy as np"
   ]
  },
  {
   "cell_type": "code",
   "execution_count": null,
   "metadata": {},
   "outputs": [],
   "source": [
    "pd.options.plotting.backend=\"plotly\""
   ]
  },
  {
   "cell_type": "code",
   "execution_count": null,
   "metadata": {},
   "outputs": [],
   "source": [
    "# infectious_compartments can (should?) default to None"
   ]
  },
  {
   "cell_type": "code",
   "execution_count": null,
   "metadata": {},
   "outputs": [],
   "source": [
    "#  Vaccination regimen; up until a certain date, only C eligible, after this date, everyone is eligible (and will vaccinate at the same rate)\n",
    "\n",
    "#  "
   ]
  },
  {
   "cell_type": "code",
   "execution_count": null,
   "metadata": {},
   "outputs": [],
   "source": [
    "def get_category_indexer(m, query):\n",
    "    return np.array([m.query_compartments(q, as_idx=True) for q in query])"
   ]
  },
  {
   "cell_type": "code",
   "execution_count": null,
   "metadata": {},
   "outputs": [],
   "source": [
    "def build_model():\n",
    "    m = CompartmentalModel([0,100.0], [\"unvacc\", \"vacc\", \"dose_avail\"], [])\n",
    "    m.set_initial_population({\"unvacc\": 1000.0, \"dose_avail\": 500.0})\n",
    "\n",
    "    def vacc_rates(time, comp_vals, maxdd = 10.0):\n",
    "        dose_idx = m.query_compartments({\"name\": \"dose_avail\"}, as_idx=True)\n",
    "        cur_dose_avail = comp_vals[dose_idx].sum()\n",
    "\n",
    "        indexer = get_category_indexer(m, [{\"age\": a, \"name\": \"unvacc\"} for a in [\"A\",\"B\",\"C\"]])\n",
    "\n",
    "        # Unvaccinated population by age group\n",
    "        cur_unvacc = comp_vals[indexer].sum(axis=1)\n",
    "\n",
    "        # Total unvaccinated population\n",
    "        cur_unvacc_tot = cur_unvacc.sum()\n",
    "\n",
    "        # Until time==20.0, we only allow group C to be vaccinated\n",
    "        # after this, allocation happens according to the relative populations of unvaccinated in different groups\n",
    "        #alloc_ratio = jnp.where(time < 20.0, jnp.array((0.0,0.0,1.0)), cur_unvacc/cur_unvacc_tot)\n",
    "        \n",
    "        # Change vaccination strategy the moment 80% of group C are vaccinated\n",
    "        group_c_pop = comp_vals[m.query_compartments({\"age\": \"C\"}, as_idx=True)].sum()\n",
    "        prop_c_vacc = 1.0 - (cur_unvacc[2] / group_c_pop)\n",
    "\n",
    "        alloc_ratio = jnp.where(prop_c_vacc < 0.8, jnp.array((0.0,0.0,1.0)), cur_unvacc/cur_unvacc_tot)\n",
    "\n",
    "        # Calculate the total number of realised unvaccinated (ie those who are unvaccinated according to the current allocation)\n",
    "        cur_unvacc_real = (alloc_ratio * cur_unvacc).sum()\n",
    "        num_to_vacc = jnp.min(jnp.array((maxdd,cur_unvacc_real, cur_dose_avail)))\n",
    "\n",
    "        vacc_rates = alloc_ratio * (num_to_vacc/cur_unvacc_real)\n",
    "        dose_rate = num_to_vacc/cur_dose_avail\n",
    "        \n",
    "        return {\"vacc_rates\": vacc_rates, \"dose_rate\": dose_rate}\n",
    "    \n",
    "    n2v = Function(vacc_rates, [Time, CompartmentValues, Parameter(\"maxdd\")])\n",
    "\n",
    "    m.add_transition_flow(\"vaccination\", 1.0, \"unvacc\", \"vacc\")\n",
    "    m.add_death_flow(\"dose_depletion\", n2v[\"dose_rate\"], \"dose_avail\")\n",
    "\n",
    "    #m.request_track_modelled_value(\"vacc_rate_A\", n2v[\"vacc_rate_A\"])\n",
    "\n",
    "    age_strat = Stratification(\"age\", [\"A\",\"B\",\"C\"], [\"unvacc\", \"vacc\"])\n",
    "    age_strat.set_population_split({\"A\": 0.2, \"B\": 0.5, \"C\": 0.3})\n",
    "    age_strat.set_flow_adjustments(\"vaccination\", {k:n2v[\"vacc_rates\"][i] for i,k in enumerate(age_strat.strata)})\n",
    "    m.stratify_with(age_strat)\n",
    "\n",
    "    #loc_strat = Stratification(\"location\", [\"urban\", \"rural\"], [\"unvacc\", \"vacc\"])\n",
    "    #m.stratify_with(loc_strat)\n",
    "\n",
    "    return m"
   ]
  },
  {
   "cell_type": "code",
   "execution_count": null,
   "metadata": {},
   "outputs": [],
   "source": [
    "m = build_model()\n"
   ]
  },
  {
   "cell_type": "code",
   "execution_count": null,
   "metadata": {},
   "outputs": [],
   "source": [
    "p = {\n",
    "    \"maxdd\": 10.0\n",
    "}\n",
    "m.run(p)\n",
    "\n",
    "m.get_outputs_df().plot()"
   ]
  },
  {
   "cell_type": "code",
   "execution_count": null,
   "metadata": {},
   "outputs": [],
   "source": []
  }
 ],
 "metadata": {
  "kernelspec": {
   "display_name": "py310",
   "language": "python",
   "name": "python3"
  },
  "language_info": {
   "codemirror_mode": {
    "name": "ipython",
    "version": 3
   },
   "file_extension": ".py",
   "mimetype": "text/x-python",
   "name": "python",
   "nbconvert_exporter": "python",
   "pygments_lexer": "ipython3",
   "version": "3.10.10"
  }
 },
 "nbformat": 4,
 "nbformat_minor": 2
}
