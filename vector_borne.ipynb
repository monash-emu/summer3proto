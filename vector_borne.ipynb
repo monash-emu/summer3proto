{
  "cells": [
    {
      "cell_type": "markdown",
      "metadata": {
        "colab_type": "text",
        "id": "view-in-github"
      },
      "source": [
        "<a href=\"https://colab.research.google.com/github/dshipman/colabsnippets/blob/main/vector_borne.ipynb\" target=\"_parent\"><img src=\"https://colab.research.google.com/assets/colab-badge.svg\" alt=\"Open In Colab\"/></a>"
      ]
    },
    {
      "cell_type": "code",
      "execution_count": null,
      "metadata": {
        "colab": {
          "base_uri": "https://localhost:8080/"
        },
        "id": "3b46PUqNTJdi",
        "outputId": "b1b42a9b-010f-4029-f255-426315956ed8"
      },
      "outputs": [],
      "source": [
        "!pip install summerepi2"
      ]
    },
    {
      "cell_type": "code",
      "execution_count": null,
      "metadata": {
        "id": "_PC8yCoXTKul"
      },
      "outputs": [],
      "source": [
        "from summer2 import CompartmentalModel, Stratification\n",
        "from summer2.parameters import Parameter, Function, CompartmentValues, Time"
      ]
    },
    {
      "cell_type": "code",
      "execution_count": null,
      "metadata": {
        "id": "G0xiBXSUTWsW"
      },
      "outputs": [],
      "source": [
        "comps = [\"s_mosq\", \"e_mosq\", \"i_mosq\", \"s_human\", \"e_human\", \"i_human\", \"r_human\"]"
      ]
    },
    {
      "cell_type": "code",
      "execution_count": null,
      "metadata": {
        "id": "X_BZCswBU4nR"
      },
      "outputs": [],
      "source": [
        "m = CompartmentalModel([0,1000.0], comps, [])"
      ]
    },
    {
      "cell_type": "code",
      "execution_count": null,
      "metadata": {
        "id": "s77OM8QYU9-s"
      },
      "outputs": [],
      "source": [
        "m.set_initial_population({\"s_human\": 10000.0, \"e_human\": 100.0})"
      ]
    },
    {
      "cell_type": "code",
      "execution_count": null,
      "metadata": {
        "id": "WZlzTo8IVkOV"
      },
      "outputs": [],
      "source": [
        "for c in m.compartments:\n",
        "  if \"mosq\" in c.name:\n",
        "    c.tags.append(\"mosquito\")\n",
        "  else:\n",
        "    c.tags.append(\"human\")"
      ]
    },
    {
      "cell_type": "code",
      "execution_count": null,
      "metadata": {
        "id": "CVdKyRSBWEk7"
      },
      "outputs": [],
      "source": []
    },
    {
      "cell_type": "code",
      "execution_count": null,
      "metadata": {
        "id": "dQELuBFmVUVH"
      },
      "outputs": [],
      "source": [
        "def infection_m2h(comp_vals, contact_m2h):\n",
        "  i_mosq_idx = m.query_compartments(dict(name=\"i_mosq\"), tags=[\"mosquito\"],as_idx=True)\n",
        "  tot_i_mosq = comp_vals[i_mosq_idx].sum()\n",
        "  return tot_i_mosq * contact_m2h\n",
        "\n",
        "def infection_h2m(comp_vals, contact_h2m):\n",
        "  i_human_idx = m.query_compartments(dict(name=\"i_human\"), tags=[\"human\"],as_idx=True)\n",
        "  all_human_idx = m.query_compartments(tags=[\"human\"],as_idx=True)\n",
        "  prevalence = comp_vals[i_human_idx].sum() / comp_vals[all_human_idx].sum()\n",
        "  return prevalence * contact_h2m\n"
      ]
    },
    {
      "cell_type": "markdown",
      "metadata": {
        "id": "N-R2hmmkWTIm"
      },
      "source": []
    },
    {
      "cell_type": "code",
      "execution_count": null,
      "metadata": {
        "id": "sZej7dKfVE1L"
      },
      "outputs": [],
      "source": [
        "m.add_transition_flow(\"infection_m2h\", Function(infection_m2h, [CompartmentValues, Parameter(\"contact_m2h\")]),\n",
        "                      \"s_human\", \"e_human\")\n",
        "\n",
        "m.add_transition_flow(\"infection_h2m\", Function(infection_h2m, [CompartmentValues, Parameter(\"contact_h2m\")]),\n",
        "                      \"s_mosq\", \"e_mosq\")\n",
        "\n",
        "m.add_transition_flow(\"progression_h\", 1.0/Parameter(\"incubation_period_h\"), \"e_human\", \"i_human\")\n",
        "m.add_transition_flow(\"recovery_h\", 1.0/Parameter(\"infectious_period_h\"), \"i_human\", \"r_human\")\n",
        "\n",
        "m.add_transition_flow(\"progression_m\", 1.0/Parameter(\"incubation_period_m\"), \"e_mosq\", \"i_mosq\")\n",
        "\n",
        "for c in m.query_compartments(tags=[\"mosquito\"]):\n",
        "  m.add_death_flow(\"death_m\", 1.0/Parameter(\"mosquito_lifetime\"), c.name)\n",
        "\n"
      ]
    },
    {
      "cell_type": "code",
      "execution_count": null,
      "metadata": {
        "id": "A_mthUYuqyTe"
      },
      "outputs": [],
      "source": [
        "from jax import numpy as jnp"
      ]
    },
    {
      "cell_type": "code",
      "execution_count": null,
      "metadata": {
        "id": "80yo9T9PqzNp"
      },
      "outputs": [],
      "source": [
        "def mosq_birth(t):\n",
        "  return 1.0 + 0.5*jnp.sin(jnp.pi*2.0*t/365.0)"
      ]
    },
    {
      "cell_type": "code",
      "execution_count": null,
      "metadata": {
        "id": "KcOuVUWhrCeK"
      },
      "outputs": [],
      "source": [
        "m.add_importation_flow(\"birth_m\", Function(mosq_birth, [Time]) * Parameter(\"mosq_birth_rate\"), \"s_mosq\", split_imports=False)"
      ]
    },
    {
      "cell_type": "code",
      "execution_count": null,
      "metadata": {
        "id": "nbFJwDaFrcIl"
      },
      "outputs": [],
      "source": [
        "parameters = {\n",
        "    \"contact_m2h\": 0.00005,\n",
        "    \"contact_h2m\": 0.1,\n",
        "    \"incubation_period_h\": 21.0,\n",
        "    \"infectious_period_h\": 100.0,\n",
        "    \"incubation_period_m\": 3.0,\n",
        "    \"mosquito_lifetime\": 14.0,\n",
        "    \"mosq_birth_rate\": 50.0\n",
        "}"
      ]
    },
    {
      "cell_type": "code",
      "execution_count": null,
      "metadata": {
        "id": "4jERaaI3rXPb"
      },
      "outputs": [],
      "source": [
        "m.run(parameters)"
      ]
    },
    {
      "cell_type": "code",
      "execution_count": null,
      "metadata": {
        "id": "emfJ-pxFtR-L"
      },
      "outputs": [],
      "source": [
        "import pandas as pd\n",
        "pd.options.plotting.backend=\"plotly\""
      ]
    },
    {
      "cell_type": "code",
      "execution_count": null,
      "metadata": {
        "colab": {
          "base_uri": "https://localhost:8080/",
          "height": 542
        },
        "id": "YqqNh7jprbmO",
        "outputId": "2b905d16-af0e-4e33-a9f2-9374d9f5caf8"
      },
      "outputs": [],
      "source": [
        "m.get_outputs_df().plot()"
      ]
    },
    {
      "cell_type": "code",
      "execution_count": null,
      "metadata": {
        "colab": {
          "base_uri": "https://localhost:8080/",
          "height": 817
        },
        "id": "OkXg-am4r9hl",
        "outputId": "33d97dc8-fa39-490d-bad7-7d118c603d94"
      },
      "outputs": [],
      "source": [
        "m.graph.draw()"
      ]
    },
    {
      "cell_type": "code",
      "execution_count": null,
      "metadata": {
        "id": "shlJQoTusEhI"
      },
      "outputs": [],
      "source": []
    }
  ],
  "metadata": {
    "colab": {
      "authorship_tag": "ABX9TyNL9ZJ2OW93w6nAMKppj0KH",
      "include_colab_link": true,
      "provenance": []
    },
    "kernelspec": {
      "display_name": "Python 3",
      "name": "python3"
    },
    "language_info": {
      "name": "python"
    }
  },
  "nbformat": 4,
  "nbformat_minor": 0
}
